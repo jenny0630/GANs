{
 "cells": [
  {
   "cell_type": "code",
   "execution_count": 1,
   "metadata": {},
   "outputs": [
    {
     "name": "stderr",
     "output_type": "stream",
     "text": [
      "Using TensorFlow backend.\n"
     ]
    }
   ],
   "source": [
    "# All the necesssary imports.\n",
    "from keras.models import Sequential\n",
    "from keras.layers import Dense\n",
    "from keras.layers.core import Activation, Dropout\n",
    "from keras.layers import LeakyReLU\n",
    "from keras import initializers\n",
    "from keras.datasets import mnist\n",
    "from keras.optimizers import Adam, RMSprop, SGD\n",
    "import numpy as np\n",
    "import matplotlib.pyplot as plt"
   ]
  },
  {
   "cell_type": "code",
   "execution_count": 2,
   "metadata": {},
   "outputs": [],
   "source": [
    "# Load in the data.\n",
    "(x_train, y_train), (x_test, y_test) = mnist.load_data()\n",
    "# Normalize to [-1, 1] (easier to work with)\n",
    "x_train = (x_train.astype(np.float32) - 127.5) / 127.5\n",
    "\n",
    "# For the sake of time don't work with the entire dataset.\n",
    "x_train = x_train[:10000]\n",
    "y_train = x_train[:10000]\n",
    "\n",
    "# Flatten the data.\n",
    "x_train = x_train.reshape((-1, 784))\n",
    "x_test = x_test.reshape((-1, 784))"
   ]
  },
  {
   "cell_type": "code",
   "execution_count": 3,
   "metadata": {},
   "outputs": [
    {
     "data": {
      "image/png": "[encoded data removed]",
      "text/plain": [
       "<Figure size 432x288 with 1 Axes>"
      ]
     },
     "metadata": {
      "needs_background": "light"
     },
     "output_type": "display_data"
    }
   ],
   "source": [
    "# Plot out a sample image (reshaped to 28 x 28)\n",
    "plt.imshow(x_train[0].reshape(28, 28), cmap=plt.get_cmap('gray'))\n",
    "plt.show()"
   ]
  },
  {
   "cell_type": "code",
   "execution_count": 4,
   "metadata": {},
   "outputs": [],
   "source": [
    "# How many noise dimensions our generator should take in\n",
    "NOISE_DIM = 100 # Feel free to tweak this and see what changes\n",
    "\n",
    "\n",
    "def generator():\n",
    "    ###################################\n",
    "    #TODO: Implement\n",
    "    model = Sequential()\n",
    "    model.add(Dense(256, input_dim = NOISE_DIM, kernel_initializer = initializers.RandomNormal(stddev = 0.02)))\n",
    "    model.add(LeakyReLU(0.2))\n",
    "    model.add(Dense(512))\n",
    "    model.add(LeakyReLU(0.2))\n",
    "    model.add(Dense(1024))\n",
    "    model.add(LeakyReLU(0.2))   \n",
    "    model.add(Dense(784, activation = 'tanh'))\n",
    "    return model\n",
    "    ###################################"
   ]
  },
  {
   "cell_type": "code",
   "execution_count": 5,
   "metadata": {},
   "outputs": [],
   "source": [
    "def discriminator():\n",
    "    ###################################\n",
    "    #TODO: Implement\n",
    "    model = Sequential()\n",
    "    model.add(Dense(1024,input_shape=(784,), kernel_initializer = initializers.RandomNormal(stddev = 0.02)))\n",
    "    model.add(LeakyReLU(0.2))\n",
    "    model.add(Dropout(0.3))\n",
    "    \n",
    "    model.add(Dense(512))\n",
    "    model.add(LeakyReLU(0.2))\n",
    "    model.add(Dropout(0.3))\n",
    "    \n",
    "    model.add(Dense(256))\n",
    "    model.add(LeakyReLU(0.2))\n",
    "    model.add(Dropout(0.3))\n",
    "    \n",
    "    model.add(Dense(1))\n",
    "    model.add(Activation('sigmoid'))\n",
    "    return model\n",
    "    ###################################"
   ]
  },
  {
   "cell_type": "code",
   "execution_count": 6,
   "metadata": {},
   "outputs": [],
   "source": [
    "def combine(generator, discriminator):\n",
    "    ###################################\n",
    "    # TODO: Implement\n",
    "    discriminator.trainable = False\n",
    "    model = Sequential()\n",
    "    model.add(generator)\n",
    "    model.add(discriminator)\n",
    "    return model\n",
    "    ###################################"
   ]
  },
  {
   "cell_type": "code",
   "execution_count": 7,
   "metadata": {},
   "outputs": [],
   "source": [
    "# Compile the discriminator, generator, and full GAN. \n",
    "\n",
    "# Use this optimizer for each of the models\n",
    "opt = Adam(lr=.0002, beta_1=0.5)\n",
    "loss = 'binary_crossentropy'\n",
    "#############################################\n",
    "# TODO: Compile generator and discriminator\n",
    "d = discriminator()\n",
    "d.compile(loss = loss, optimizer = opt)\n",
    "\n",
    "g = generator()\n",
    "g.compile(loss = loss, optimizer = opt)\n",
    "\n",
    "gd = combine(g, d)\n",
    "gd.compile(loss = loss, optimizer = opt)\n",
    "#############################################"
   ]
  },
  {
   "cell_type": "code",
   "execution_count": 8,
   "metadata": {},
   "outputs": [],
   "source": [
    "# Helper function to display sample from the network\n",
    "def disp_sample(g):\n",
    "    noise = np.random.uniform(-1, 1, size=(batch_size, NOISE_DIM))\n",
    "    generated_images = g.predict(noise, verbose=0)\n",
    "    show_im = generated_images[0]\n",
    "    show_im = (show_im + 1) / 2.0\n",
    "    show_im = show_im.reshape(28, 28)\n",
    "    plt.imshow(show_im, cmap='gray')\n",
    "    plt.show()"
   ]
  },
  {
   "cell_type": "code",
   "execution_count": null,
   "metadata": {},
   "outputs": [
    {
     "name": "stdout",
     "output_type": "stream",
     "text": [
      "Epoch #0\n"
     ]
    },
    {
     "data": {
      "image/png": "[encoded data removed]",
      "text/plain": [
       "<Figure size 432x288 with 1 Axes>"
      ]
     },
     "metadata": {
      "needs_background": "light"
     },
     "output_type": "display_data"
    },
    {
     "name": "stdout",
     "output_type": "stream",
     "text": [
      "Number batches 78\n",
      "0(0/78) D: 0.8585, G: 0.6954\n",
      "0(1/78) D: 0.4596, G: 0.6804\n",
      "0(2/78) D: 0.3833, G: 0.6640\n",
      "0(3/78) D: 0.3850, G: 0.6447\n",
      "0(4/78) D: 0.3962, G: 0.6234\n",
      "0(5/78) D: 0.4127, G: 0.6045\n",
      "0(6/78) D: 0.4308, G: 0.5918\n",
      "0(7/78) D: 0.4440, G: 0.5847\n",
      "0(8/78) D: 0.4502, G: 0.5971\n",
      "0(9/78) D: 0.4458, G: 0.6269\n",
      "0(10/78) D: 0.4396, G: 0.6750\n",
      "0(11/78) D: 0.4287, G: 0.7180\n",
      "0(12/78) D: 0.4161, G: 0.7544\n",
      "0(13/78) D: 0.4059, G: 0.7643\n",
      "0(14/78) D: 0.4139, G: 0.8022\n",
      "0(15/78) D: 0.4203, G: 0.8183\n",
      "0(16/78) D: 0.4476, G: 0.7143\n",
      "0(17/78) D: 0.4835, G: 0.7920\n",
      "0(18/78) D: 0.4827, G: 0.7174\n",
      "0(19/78) D: 0.4796, G: 0.8227\n",
      "0(20/78) D: 0.4475, G: 0.8312\n",
      "0(21/78) D: 0.4318, G: 0.8397\n",
      "0(22/78) D: 0.4402, G: 0.9201\n",
      "0(23/78) D: 0.4382, G: 0.8504\n",
      "0(24/78) D: 0.4522, G: 0.9382\n",
      "0(25/78) D: 0.4487, G: 0.7636\n",
      "0(26/78) D: 0.5103, G: 0.9318\n",
      "0(27/78) D: 0.4705, G: 0.8086\n",
      "0(28/78) D: 0.4610, G: 0.9154\n",
      "0(29/78) D: 0.4318, G: 0.9368\n",
      "0(30/78) D: 0.4194, G: 0.9083\n",
      "0(31/78) D: 0.4264, G: 0.9880\n",
      "0(32/78) D: 0.4018, G: 0.9586\n",
      "0(33/78) D: 0.4094, G: 1.0741\n",
      "0(34/78) D: 0.3995, G: 0.8789\n",
      "0(35/78) D: 0.4294, G: 1.0745\n",
      "0(36/78) D: 0.4158, G: 0.8348\n",
      "0(37/78) D: 0.4487, G: 0.9639\n",
      "0(38/78) D: 0.3856, G: 1.0666\n",
      "0(39/78) D: 0.4115, G: 0.7554\n",
      "0(40/78) D: 0.4588, G: 0.9195\n",
      "0(41/78) D: 0.3680, G: 1.2145\n",
      "0(42/78) D: 0.4951, G: 0.5323\n",
      "0(43/78) D: 0.5945, G: 0.5913\n",
      "0(44/78) D: 0.5510, G: 1.0077\n",
      "0(45/78) D: 0.3244, G: 1.4006\n",
      "0(46/78) D: 0.7089, G: 0.3649\n",
      "0(47/78) D: 0.7078, G: 0.2929\n",
      "0(48/78) D: 0.7921, G: 0.4355\n",
      "0(49/78) D: 0.6079, G: 0.7634\n",
      "0(50/78) D: 0.4174, G: 1.0441\n",
      "0(51/78) D: 0.5701, G: 0.5728\n",
      "0(52/78) D: 0.5087, G: 0.5267\n",
      "0(53/78) D: 0.5313, G: 0.6358\n",
      "0(54/78) D: 0.4845, G: 0.7650\n",
      "0(55/78) D: 0.5102, G: 0.6900\n",
      "0(56/78) D: 0.4964, G: 0.6586\n",
      "0(57/78) D: 0.5216, G: 0.7332\n",
      "0(58/78) D: 0.5076, G: 0.7842\n",
      "0(59/78) D: 0.5132, G: 0.7380\n",
      "0(60/78) D: 0.5258, G: 0.8601\n",
      "0(61/78) D: 0.5184, G: 0.7223\n",
      "0(62/78) D: 0.5452, G: 1.1572\n",
      "0(63/78) D: 0.6782, G: 0.3591\n",
      "0(64/78) D: 0.7656, G: 0.5531\n",
      "0(65/78) D: 0.5869, G: 0.8115\n",
      "0(66/78) D: 0.5479, G: 0.7891\n",
      "0(67/78) D: 0.5171, G: 0.7005\n",
      "0(68/78) D: 0.4951, G: 0.8831\n",
      "0(69/78) D: 0.4328, G: 1.0945\n",
      "0(70/78) D: 0.4171, G: 0.9280\n",
      "0(71/78) D: 0.4570, G: 1.4123\n",
      "0(72/78) D: 0.5596, G: 0.3485\n",
      "0(73/78) D: 0.8865, G: 0.9592\n",
      "0(74/78) D: 0.5109, G: 1.0506\n",
      "0(75/78) D: 0.5578, G: 0.6711\n",
      "0(76/78) D: 0.5561, G: 0.8373\n",
      "0(77/78) D: 0.5021, G: 1.0578\n",
      "Epoch #1\n"
     ]
    },
    {
     "data": {
      "image/png": "[encoded data removed]",
      "text/plain": [
       "<Figure size 432x288 with 1 Axes>"
      ]
     },
     "metadata": {
      "needs_background": "light"
     },
     "output_type": "display_data"
    },
    {
     "name": "stdout",
     "output_type": "stream",
     "text": [
      "Number batches 78\n",
      "1(0/78) D: 0.4720, G: 0.8896\n",
      "1(1/78) D: 0.4631, G: 1.2212\n",
      "1(2/78) D: 0.4567, G: 0.9376\n",
      "1(3/78) D: 0.4944, G: 1.4017\n",
      "1(4/78) D: 0.5203, G: 0.6102\n",
      "1(5/78) D: 0.6352, G: 1.2515\n",
      "1(6/78) D: 0.4919, G: 0.9599\n",
      "1(7/78) D: 0.4174, G: 1.0720\n",
      "1(8/78) D: 0.3847, G: 1.3358\n",
      "1(9/78) D: 0.3243, G: 1.3966\n",
      "1(10/78) D: 0.3272, G: 1.6463\n",
      "1(11/78) D: 0.3691, G: 0.9356\n",
      "1(12/78) D: 0.5467, G: 1.9213\n",
      "1(13/78) D: 0.8563, G: 0.3403\n",
      "1(14/78) D: 0.7627, G: 0.4166\n",
      "1(15/78) D: 0.6246, G: 0.7472\n",
      "1(16/78) D: 0.3793, G: 1.0487\n",
      "1(17/78) D: 0.3291, G: 1.2348\n",
      "1(18/78) D: 0.3325, G: 1.0972\n",
      "1(19/78) D: 0.2839, G: 1.0963\n",
      "1(20/78) D: 0.2758, G: 1.3913\n",
      "1(21/78) D: 0.2557, G: 1.5169\n",
      "1(22/78) D: 0.2766, G: 1.2563\n",
      "1(23/78) D: 0.3527, G: 1.2433\n",
      "1(24/78) D: 0.4093, G: 0.9852\n",
      "1(25/78) D: 0.4728, G: 1.2353\n",
      "1(26/78) D: 0.4476, G: 0.6849\n",
      "1(27/78) D: 0.5452, G: 1.1866\n",
      "1(28/78) D: 0.3379, G: 1.4057\n",
      "1(29/78) D: 0.3583, G: 0.9483\n",
      "1(30/78) D: 0.3925, G: 1.1770\n",
      "1(31/78) D: 0.2954, G: 1.5184\n",
      "1(32/78) D: 0.2906, G: 1.2991\n",
      "1(33/78) D: 0.2785, G: 1.3903\n",
      "1(34/78) D: 0.2738, G: 1.5196\n",
      "1(35/78) D: 0.2472, G: 1.4882\n",
      "1(36/78) D: 0.2485, G: 1.4591\n",
      "1(37/78) D: 0.2724, G: 1.4743\n",
      "1(38/78) D: 0.2814, G: 1.4295\n",
      "1(39/78) D: 0.2649, G: 1.3739\n",
      "1(40/78) D: 0.2762, G: 1.3195\n",
      "1(41/78) D: 0.2616, G: 1.3113\n",
      "1(42/78) D: 0.2381, G: 1.3446\n",
      "1(43/78) D: 0.2206, G: 1.3653\n",
      "1(44/78) D: 0.2110, G: 1.3987\n",
      "1(45/78) D: 0.2082, G: 1.4259\n"
     ]
    }
   ],
   "source": [
    "batch_size = 128\n",
    "\n",
    "for epoch in range(100):\n",
    "    print('Epoch #%d' % epoch)\n",
    "    \n",
    "    # Generate an image and display it.\n",
    "    disp_sample(g)\n",
    "    \n",
    "    num_batches = int(x_train.shape[0] / batch_size)\n",
    "    print('Number batches %i' % num_batches)\n",
    "    for i in range(num_batches):\n",
    "        # A training iteration\n",
    "        \n",
    "        # Generate noise.\n",
    "        noise = np.random.uniform(-1, 1, size=(batch_size, NOISE_DIM))\n",
    "        \n",
    "        # Generate images from the noise using the generator.\n",
    "        generated_images = g.predict(noise)\n",
    "        \n",
    "        # Grab the image batch for this iteration. \n",
    "        real_images = x_train[i * batch_size: (i+1) * batch_size]\n",
    "        \n",
    "        # Contains the real and fake images.\n",
    "        X = np.concatenate([generated_images, real_images])\n",
    "        \n",
    "        # Labels if the sample is real (1) or not real (0). \n",
    "        y = np.concatenate([np.zeros(generated_images.shape[0]), np.ones(real_images.shape[0])])\n",
    "\n",
    "        # Train the discriminator using the generated images and the real images.\n",
    "        d.trainable = True\n",
    "        d_loss = d.train_on_batch(X, y)\n",
    "        d.trainable = False\n",
    "        \n",
    "        # Generate more noise to feed into the full gan network to train the generative portion. \n",
    "        noise = np.random.uniform(-1, 1, size=(batch_size, NOISE_DIM))\n",
    "\n",
    "        # Get the g_loss\n",
    "        g_loss = gd.train_on_batch(noise, np.ones(noise.shape[0]))\n",
    "        \n",
    "        print('%i(%i/%i) D: %.4f, G: %.4f' % (epoch, i, num_batches, d_loss, g_loss))"
   ]
  },
  {
   "cell_type": "code",
   "execution_count": null,
   "metadata": {},
   "outputs": [],
   "source": []
  },
  {
   "cell_type": "code",
   "execution_count": null,
   "metadata": {},
   "outputs": [],
   "source": []
  },
  {
   "cell_type": "code",
   "execution_count": null,
   "metadata": {},
   "outputs": [],
   "source": []
  }
 ],
 "metadata": {
  "anaconda-cloud": {},
  "kernelspec": {
   "display_name": "Python [default]",
   "language": "python",
   "name": "python3"
  },
  "language_info": {
   "codemirror_mode": {
    "name": "ipython",
    "version": 3
   },
   "file_extension": ".py",
   "mimetype": "text/x-python",
   "name": "python",
   "nbconvert_exporter": "python",
   "pygments_lexer": "ipython3",
   "version": "3.5.6"
  }
 },
 "nbformat": 4,
 "nbformat_minor": 2
}
